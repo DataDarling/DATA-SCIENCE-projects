{
  "nbformat": 4,
  "nbformat_minor": 0,
  "metadata": {
    "colab": {
      "provenance": []
    },
    "kernelspec": {
      "name": "python3",
      "display_name": "Python 3"
    },
    "language_info": {
      "name": "python"
    }
  },
  "cells": [
    {
      "cell_type": "markdown",
      "source": [
        "# Loading and Verifying Heart Disease Dataset"
      ],
      "metadata": {
        "id": "_DUxi8nrYFMY"
      }
    },
    {
      "cell_type": "code",
      "execution_count": null,
      "metadata": {
        "id": "3TEi6CkpifEe",
        "colab": {
          "base_uri": "https://localhost:8080/"
        },
        "outputId": "d9473d35-bed8-449b-fab1-e049f0a81548"
      },
      "outputs": [
        {
          "output_type": "stream",
          "name": "stdout",
          "text": [
            "Drive already mounted at /content/drive; to attempt to forcibly remount, call drive.mount(\"/content/drive\", force_remount=True).\n"
          ]
        }
      ],
      "source": [
        "from google.colab import drive\n",
        "drive.mount('/content/drive')\n"
      ]
    },
    {
      "cell_type": "code",
      "source": [
        "# Import libraries\n",
        "#import pandas as pd\n",
        "#import numpy as np\n",
        "#from sklearn.model_selection import train_test_split\n",
        "#from sklearn.preprocessing import StandardScaler\n",
        "#from sklearn.linear_model import LogisticRegression\n",
        "#from sklearn.metrics import classification_report, confusion_matrix, accuracy_score\n",
        "#import matplotlib.pyplot as plt\n",
        "#import seaborn as sns\n"
      ],
      "metadata": {
        "id": "8wjMpW4PbIZ_"
      },
      "execution_count": null,
      "outputs": []
    },
    {
      "cell_type": "code",
      "source": [
        "import pandas as pd\n",
        "\n",
        "# Provide the full path to the preprocessed_data.csv file\n",
        "file_path = '/content/drive/My Drive/Heart Disease Prediction Projects/preprocessed_data.csv'\n",
        "\n",
        "# Load the dataset into a pandas DataFrame\n",
        "data = pd.read_csv(file_path)\n",
        "\n",
        "# Display the first few rows to confirm it loaded correctly\n",
        "print(data.head())\n"
      ],
      "metadata": {
        "id": "Rny_BjHIl-Bl",
        "colab": {
          "base_uri": "https://localhost:8080/"
        },
        "outputId": "be96fc0b-c3a8-4ffc-ffc7-b66fe46b01dd"
      },
      "execution_count": null,
      "outputs": [
        {
          "output_type": "stream",
          "name": "stdout",
          "text": [
            "   Age  Sex  Chest pain type   BP  Cholesterol  FBS over 120  EKG results  \\\n",
            "0   70    1                4  130          322             0            2   \n",
            "1   57    1                2  124          261             0            0   \n",
            "2   64    1                4  128          263             0            0   \n",
            "3   74    0                2  120          269             0            2   \n",
            "4   65    1                4  120          177             0            0   \n",
            "\n",
            "   Max HR  Exercise angina  ST depression  Slope of ST  \\\n",
            "0     109                0            2.4            2   \n",
            "1     141                0            0.3            1   \n",
            "2     105                1            0.2            2   \n",
            "3     121                1            0.2            1   \n",
            "4     140                0            0.4            1   \n",
            "\n",
            "   Number of vessels fluro  Thallium Heart Disease  \n",
            "0                        3         3      Presence  \n",
            "1                        0         7      Presence  \n",
            "2                        1         7       Absence  \n",
            "3                        1         3       Absence  \n",
            "4                        0         7       Absence  \n"
          ]
        }
      ]
    },
    {
      "cell_type": "code",
      "source": [
        "data.info()"
      ],
      "metadata": {
        "colab": {
          "base_uri": "https://localhost:8080/"
        },
        "id": "fCmOaz5_Xb_n",
        "outputId": "667112b8-a7d7-47cf-c487-22f18a786394"
      },
      "execution_count": null,
      "outputs": [
        {
          "output_type": "stream",
          "name": "stdout",
          "text": [
            "<class 'pandas.core.frame.DataFrame'>\n",
            "RangeIndex: 252 entries, 0 to 251\n",
            "Data columns (total 14 columns):\n",
            " #   Column                   Non-Null Count  Dtype  \n",
            "---  ------                   --------------  -----  \n",
            " 0   Age                      252 non-null    int64  \n",
            " 1   Sex                      252 non-null    int64  \n",
            " 2   Chest pain type          252 non-null    int64  \n",
            " 3   BP                       252 non-null    int64  \n",
            " 4   Cholesterol              252 non-null    int64  \n",
            " 5   FBS over 120             252 non-null    int64  \n",
            " 6   EKG results              252 non-null    int64  \n",
            " 7   Max HR                   252 non-null    int64  \n",
            " 8   Exercise angina          252 non-null    int64  \n",
            " 9   ST depression            252 non-null    float64\n",
            " 10  Slope of ST              252 non-null    int64  \n",
            " 11  Number of vessels fluro  252 non-null    int64  \n",
            " 12  Thallium                 252 non-null    int64  \n",
            " 13  Heart Disease            252 non-null    object \n",
            "dtypes: float64(1), int64(12), object(1)\n",
            "memory usage: 27.7+ KB\n"
          ]
        }
      ]
    },
    {
      "cell_type": "code",
      "source": [
        "data.describe()"
      ],
      "metadata": {
        "colab": {
          "base_uri": "https://localhost:8080/",
          "height": 355
        },
        "id": "X11vsmmwXvTS",
        "outputId": "928ac6c6-3366-4fb1-ee6d-4f5603bcfec6"
      },
      "execution_count": null,
      "outputs": [
        {
          "output_type": "execute_result",
          "data": {
            "text/plain": [
              "              Age         Sex  Chest pain type          BP  Cholesterol  \\\n",
              "count  252.000000  252.000000       252.000000  252.000000   252.000000   \n",
              "mean    54.031746    0.698413         3.150794  129.325397   245.468254   \n",
              "std      9.188106    0.459860         0.953646   15.409589    44.058217   \n",
              "min     29.000000    0.000000         1.000000   94.000000   126.000000   \n",
              "25%     46.750000    0.000000         3.000000  120.000000   212.000000   \n",
              "50%     54.000000    1.000000         3.000000  130.000000   243.500000   \n",
              "75%     60.250000    1.000000         4.000000  140.000000   274.250000   \n",
              "max     77.000000    1.000000         4.000000  170.000000   360.000000   \n",
              "\n",
              "       FBS over 120  EKG results      Max HR  Exercise angina  ST depression  \\\n",
              "count    252.000000   252.000000  252.000000       252.000000     252.000000   \n",
              "mean       0.138889     1.011905  150.087302         0.317460       0.961508   \n",
              "std        0.346519     0.999929   22.909668         0.466415       1.009510   \n",
              "min        0.000000     0.000000   88.000000         0.000000       0.000000   \n",
              "25%        0.000000     0.000000  132.750000         0.000000       0.000000   \n",
              "50%        0.000000     2.000000  154.000000         0.000000       0.650000   \n",
              "75%        0.000000     2.000000  168.000000         1.000000       1.600000   \n",
              "max        1.000000     2.000000  202.000000         1.000000       3.800000   \n",
              "\n",
              "       Slope of ST  Number of vessels fluro    Thallium  \n",
              "count   252.000000               252.000000  252.000000  \n",
              "mean      1.555556                 0.650794    4.626984  \n",
              "std       0.599542                 0.921781    1.925853  \n",
              "min       1.000000                 0.000000    3.000000  \n",
              "25%       1.000000                 0.000000    3.000000  \n",
              "50%       1.500000                 0.000000    3.000000  \n",
              "75%       2.000000                 1.000000    7.000000  \n",
              "max       3.000000                 3.000000    7.000000  "
            ],
            "text/html": [
              "\n",
              "  <div id=\"df-9c63b48e-9097-421c-bfe4-961897ef363d\" class=\"colab-df-container\">\n",
              "    <div>\n",
              "<style scoped>\n",
              "    .dataframe tbody tr th:only-of-type {\n",
              "        vertical-align: middle;\n",
              "    }\n",
              "\n",
              "    .dataframe tbody tr th {\n",
              "        vertical-align: top;\n",
              "    }\n",
              "\n",
              "    .dataframe thead th {\n",
              "        text-align: right;\n",
              "    }\n",
              "</style>\n",
              "<table border=\"1\" class=\"dataframe\">\n",
              "  <thead>\n",
              "    <tr style=\"text-align: right;\">\n",
              "      <th></th>\n",
              "      <th>Age</th>\n",
              "      <th>Sex</th>\n",
              "      <th>Chest pain type</th>\n",
              "      <th>BP</th>\n",
              "      <th>Cholesterol</th>\n",
              "      <th>FBS over 120</th>\n",
              "      <th>EKG results</th>\n",
              "      <th>Max HR</th>\n",
              "      <th>Exercise angina</th>\n",
              "      <th>ST depression</th>\n",
              "      <th>Slope of ST</th>\n",
              "      <th>Number of vessels fluro</th>\n",
              "      <th>Thallium</th>\n",
              "    </tr>\n",
              "  </thead>\n",
              "  <tbody>\n",
              "    <tr>\n",
              "      <th>count</th>\n",
              "      <td>252.000000</td>\n",
              "      <td>252.000000</td>\n",
              "      <td>252.000000</td>\n",
              "      <td>252.000000</td>\n",
              "      <td>252.000000</td>\n",
              "      <td>252.000000</td>\n",
              "      <td>252.000000</td>\n",
              "      <td>252.000000</td>\n",
              "      <td>252.000000</td>\n",
              "      <td>252.000000</td>\n",
              "      <td>252.000000</td>\n",
              "      <td>252.000000</td>\n",
              "      <td>252.000000</td>\n",
              "    </tr>\n",
              "    <tr>\n",
              "      <th>mean</th>\n",
              "      <td>54.031746</td>\n",
              "      <td>0.698413</td>\n",
              "      <td>3.150794</td>\n",
              "      <td>129.325397</td>\n",
              "      <td>245.468254</td>\n",
              "      <td>0.138889</td>\n",
              "      <td>1.011905</td>\n",
              "      <td>150.087302</td>\n",
              "      <td>0.317460</td>\n",
              "      <td>0.961508</td>\n",
              "      <td>1.555556</td>\n",
              "      <td>0.650794</td>\n",
              "      <td>4.626984</td>\n",
              "    </tr>\n",
              "    <tr>\n",
              "      <th>std</th>\n",
              "      <td>9.188106</td>\n",
              "      <td>0.459860</td>\n",
              "      <td>0.953646</td>\n",
              "      <td>15.409589</td>\n",
              "      <td>44.058217</td>\n",
              "      <td>0.346519</td>\n",
              "      <td>0.999929</td>\n",
              "      <td>22.909668</td>\n",
              "      <td>0.466415</td>\n",
              "      <td>1.009510</td>\n",
              "      <td>0.599542</td>\n",
              "      <td>0.921781</td>\n",
              "      <td>1.925853</td>\n",
              "    </tr>\n",
              "    <tr>\n",
              "      <th>min</th>\n",
              "      <td>29.000000</td>\n",
              "      <td>0.000000</td>\n",
              "      <td>1.000000</td>\n",
              "      <td>94.000000</td>\n",
              "      <td>126.000000</td>\n",
              "      <td>0.000000</td>\n",
              "      <td>0.000000</td>\n",
              "      <td>88.000000</td>\n",
              "      <td>0.000000</td>\n",
              "      <td>0.000000</td>\n",
              "      <td>1.000000</td>\n",
              "      <td>0.000000</td>\n",
              "      <td>3.000000</td>\n",
              "    </tr>\n",
              "    <tr>\n",
              "      <th>25%</th>\n",
              "      <td>46.750000</td>\n",
              "      <td>0.000000</td>\n",
              "      <td>3.000000</td>\n",
              "      <td>120.000000</td>\n",
              "      <td>212.000000</td>\n",
              "      <td>0.000000</td>\n",
              "      <td>0.000000</td>\n",
              "      <td>132.750000</td>\n",
              "      <td>0.000000</td>\n",
              "      <td>0.000000</td>\n",
              "      <td>1.000000</td>\n",
              "      <td>0.000000</td>\n",
              "      <td>3.000000</td>\n",
              "    </tr>\n",
              "    <tr>\n",
              "      <th>50%</th>\n",
              "      <td>54.000000</td>\n",
              "      <td>1.000000</td>\n",
              "      <td>3.000000</td>\n",
              "      <td>130.000000</td>\n",
              "      <td>243.500000</td>\n",
              "      <td>0.000000</td>\n",
              "      <td>2.000000</td>\n",
              "      <td>154.000000</td>\n",
              "      <td>0.000000</td>\n",
              "      <td>0.650000</td>\n",
              "      <td>1.500000</td>\n",
              "      <td>0.000000</td>\n",
              "      <td>3.000000</td>\n",
              "    </tr>\n",
              "    <tr>\n",
              "      <th>75%</th>\n",
              "      <td>60.250000</td>\n",
              "      <td>1.000000</td>\n",
              "      <td>4.000000</td>\n",
              "      <td>140.000000</td>\n",
              "      <td>274.250000</td>\n",
              "      <td>0.000000</td>\n",
              "      <td>2.000000</td>\n",
              "      <td>168.000000</td>\n",
              "      <td>1.000000</td>\n",
              "      <td>1.600000</td>\n",
              "      <td>2.000000</td>\n",
              "      <td>1.000000</td>\n",
              "      <td>7.000000</td>\n",
              "    </tr>\n",
              "    <tr>\n",
              "      <th>max</th>\n",
              "      <td>77.000000</td>\n",
              "      <td>1.000000</td>\n",
              "      <td>4.000000</td>\n",
              "      <td>170.000000</td>\n",
              "      <td>360.000000</td>\n",
              "      <td>1.000000</td>\n",
              "      <td>2.000000</td>\n",
              "      <td>202.000000</td>\n",
              "      <td>1.000000</td>\n",
              "      <td>3.800000</td>\n",
              "      <td>3.000000</td>\n",
              "      <td>3.000000</td>\n",
              "      <td>7.000000</td>\n",
              "    </tr>\n",
              "  </tbody>\n",
              "</table>\n",
              "</div>\n",
              "    <div class=\"colab-df-buttons\">\n",
              "\n",
              "  <div class=\"colab-df-container\">\n",
              "    <button class=\"colab-df-convert\" onclick=\"convertToInteractive('df-9c63b48e-9097-421c-bfe4-961897ef363d')\"\n",
              "            title=\"Convert this dataframe to an interactive table.\"\n",
              "            style=\"display:none;\">\n",
              "\n",
              "  <svg xmlns=\"http://www.w3.org/2000/svg\" height=\"24px\" viewBox=\"0 -960 960 960\">\n",
              "    <path d=\"M120-120v-720h720v720H120Zm60-500h600v-160H180v160Zm220 220h160v-160H400v160Zm0 220h160v-160H400v160ZM180-400h160v-160H180v160Zm440 0h160v-160H620v160ZM180-180h160v-160H180v160Zm440 0h160v-160H620v160Z\"/>\n",
              "  </svg>\n",
              "    </button>\n",
              "\n",
              "  <style>\n",
              "    .colab-df-container {\n",
              "      display:flex;\n",
              "      gap: 12px;\n",
              "    }\n",
              "\n",
              "    .colab-df-convert {\n",
              "      background-color: #E8F0FE;\n",
              "      border: none;\n",
              "      border-radius: 50%;\n",
              "      cursor: pointer;\n",
              "      display: none;\n",
              "      fill: #1967D2;\n",
              "      height: 32px;\n",
              "      padding: 0 0 0 0;\n",
              "      width: 32px;\n",
              "    }\n",
              "\n",
              "    .colab-df-convert:hover {\n",
              "      background-color: #E2EBFA;\n",
              "      box-shadow: 0px 1px 2px rgba(60, 64, 67, 0.3), 0px 1px 3px 1px rgba(60, 64, 67, 0.15);\n",
              "      fill: #174EA6;\n",
              "    }\n",
              "\n",
              "    .colab-df-buttons div {\n",
              "      margin-bottom: 4px;\n",
              "    }\n",
              "\n",
              "    [theme=dark] .colab-df-convert {\n",
              "      background-color: #3B4455;\n",
              "      fill: #D2E3FC;\n",
              "    }\n",
              "\n",
              "    [theme=dark] .colab-df-convert:hover {\n",
              "      background-color: #434B5C;\n",
              "      box-shadow: 0px 1px 3px 1px rgba(0, 0, 0, 0.15);\n",
              "      filter: drop-shadow(0px 1px 2px rgba(0, 0, 0, 0.3));\n",
              "      fill: #FFFFFF;\n",
              "    }\n",
              "  </style>\n",
              "\n",
              "    <script>\n",
              "      const buttonEl =\n",
              "        document.querySelector('#df-9c63b48e-9097-421c-bfe4-961897ef363d button.colab-df-convert');\n",
              "      buttonEl.style.display =\n",
              "        google.colab.kernel.accessAllowed ? 'block' : 'none';\n",
              "\n",
              "      async function convertToInteractive(key) {\n",
              "        const element = document.querySelector('#df-9c63b48e-9097-421c-bfe4-961897ef363d');\n",
              "        const dataTable =\n",
              "          await google.colab.kernel.invokeFunction('convertToInteractive',\n",
              "                                                    [key], {});\n",
              "        if (!dataTable) return;\n",
              "\n",
              "        const docLinkHtml = 'Like what you see? Visit the ' +\n",
              "          '<a target=\"_blank\" href=https://colab.research.google.com/notebooks/data_table.ipynb>data table notebook</a>'\n",
              "          + ' to learn more about interactive tables.';\n",
              "        element.innerHTML = '';\n",
              "        dataTable['output_type'] = 'display_data';\n",
              "        await google.colab.output.renderOutput(dataTable, element);\n",
              "        const docLink = document.createElement('div');\n",
              "        docLink.innerHTML = docLinkHtml;\n",
              "        element.appendChild(docLink);\n",
              "      }\n",
              "    </script>\n",
              "  </div>\n",
              "\n",
              "\n",
              "<div id=\"df-ca72fde2-2356-4ba4-899c-4aef28501a76\">\n",
              "  <button class=\"colab-df-quickchart\" onclick=\"quickchart('df-ca72fde2-2356-4ba4-899c-4aef28501a76')\"\n",
              "            title=\"Suggest charts\"\n",
              "            style=\"display:none;\">\n",
              "\n",
              "<svg xmlns=\"http://www.w3.org/2000/svg\" height=\"24px\"viewBox=\"0 0 24 24\"\n",
              "     width=\"24px\">\n",
              "    <g>\n",
              "        <path d=\"M19 3H5c-1.1 0-2 .9-2 2v14c0 1.1.9 2 2 2h14c1.1 0 2-.9 2-2V5c0-1.1-.9-2-2-2zM9 17H7v-7h2v7zm4 0h-2V7h2v10zm4 0h-2v-4h2v4z\"/>\n",
              "    </g>\n",
              "</svg>\n",
              "  </button>\n",
              "\n",
              "<style>\n",
              "  .colab-df-quickchart {\n",
              "      --bg-color: #E8F0FE;\n",
              "      --fill-color: #1967D2;\n",
              "      --hover-bg-color: #E2EBFA;\n",
              "      --hover-fill-color: #174EA6;\n",
              "      --disabled-fill-color: #AAA;\n",
              "      --disabled-bg-color: #DDD;\n",
              "  }\n",
              "\n",
              "  [theme=dark] .colab-df-quickchart {\n",
              "      --bg-color: #3B4455;\n",
              "      --fill-color: #D2E3FC;\n",
              "      --hover-bg-color: #434B5C;\n",
              "      --hover-fill-color: #FFFFFF;\n",
              "      --disabled-bg-color: #3B4455;\n",
              "      --disabled-fill-color: #666;\n",
              "  }\n",
              "\n",
              "  .colab-df-quickchart {\n",
              "    background-color: var(--bg-color);\n",
              "    border: none;\n",
              "    border-radius: 50%;\n",
              "    cursor: pointer;\n",
              "    display: none;\n",
              "    fill: var(--fill-color);\n",
              "    height: 32px;\n",
              "    padding: 0;\n",
              "    width: 32px;\n",
              "  }\n",
              "\n",
              "  .colab-df-quickchart:hover {\n",
              "    background-color: var(--hover-bg-color);\n",
              "    box-shadow: 0 1px 2px rgba(60, 64, 67, 0.3), 0 1px 3px 1px rgba(60, 64, 67, 0.15);\n",
              "    fill: var(--button-hover-fill-color);\n",
              "  }\n",
              "\n",
              "  .colab-df-quickchart-complete:disabled,\n",
              "  .colab-df-quickchart-complete:disabled:hover {\n",
              "    background-color: var(--disabled-bg-color);\n",
              "    fill: var(--disabled-fill-color);\n",
              "    box-shadow: none;\n",
              "  }\n",
              "\n",
              "  .colab-df-spinner {\n",
              "    border: 2px solid var(--fill-color);\n",
              "    border-color: transparent;\n",
              "    border-bottom-color: var(--fill-color);\n",
              "    animation:\n",
              "      spin 1s steps(1) infinite;\n",
              "  }\n",
              "\n",
              "  @keyframes spin {\n",
              "    0% {\n",
              "      border-color: transparent;\n",
              "      border-bottom-color: var(--fill-color);\n",
              "      border-left-color: var(--fill-color);\n",
              "    }\n",
              "    20% {\n",
              "      border-color: transparent;\n",
              "      border-left-color: var(--fill-color);\n",
              "      border-top-color: var(--fill-color);\n",
              "    }\n",
              "    30% {\n",
              "      border-color: transparent;\n",
              "      border-left-color: var(--fill-color);\n",
              "      border-top-color: var(--fill-color);\n",
              "      border-right-color: var(--fill-color);\n",
              "    }\n",
              "    40% {\n",
              "      border-color: transparent;\n",
              "      border-right-color: var(--fill-color);\n",
              "      border-top-color: var(--fill-color);\n",
              "    }\n",
              "    60% {\n",
              "      border-color: transparent;\n",
              "      border-right-color: var(--fill-color);\n",
              "    }\n",
              "    80% {\n",
              "      border-color: transparent;\n",
              "      border-right-color: var(--fill-color);\n",
              "      border-bottom-color: var(--fill-color);\n",
              "    }\n",
              "    90% {\n",
              "      border-color: transparent;\n",
              "      border-bottom-color: var(--fill-color);\n",
              "    }\n",
              "  }\n",
              "</style>\n",
              "\n",
              "  <script>\n",
              "    async function quickchart(key) {\n",
              "      const quickchartButtonEl =\n",
              "        document.querySelector('#' + key + ' button');\n",
              "      quickchartButtonEl.disabled = true;  // To prevent multiple clicks.\n",
              "      quickchartButtonEl.classList.add('colab-df-spinner');\n",
              "      try {\n",
              "        const charts = await google.colab.kernel.invokeFunction(\n",
              "            'suggestCharts', [key], {});\n",
              "      } catch (error) {\n",
              "        console.error('Error during call to suggestCharts:', error);\n",
              "      }\n",
              "      quickchartButtonEl.classList.remove('colab-df-spinner');\n",
              "      quickchartButtonEl.classList.add('colab-df-quickchart-complete');\n",
              "    }\n",
              "    (() => {\n",
              "      let quickchartButtonEl =\n",
              "        document.querySelector('#df-ca72fde2-2356-4ba4-899c-4aef28501a76 button');\n",
              "      quickchartButtonEl.style.display =\n",
              "        google.colab.kernel.accessAllowed ? 'block' : 'none';\n",
              "    })();\n",
              "  </script>\n",
              "</div>\n",
              "\n",
              "    </div>\n",
              "  </div>\n"
            ],
            "application/vnd.google.colaboratory.intrinsic+json": {
              "type": "dataframe",
              "summary": "{\n  \"name\": \"data\",\n  \"rows\": 8,\n  \"fields\": [\n    {\n      \"column\": \"Age\",\n      \"properties\": {\n        \"dtype\": \"number\",\n        \"std\": 75.24909236256975,\n        \"min\": 9.188106384411267,\n        \"max\": 252.0,\n        \"num_unique_values\": 8,\n        \"samples\": [\n          54.03174603174603,\n          54.0,\n          252.0\n        ],\n        \"semantic_type\": \"\",\n        \"description\": \"\"\n      }\n    },\n    {\n      \"column\": \"Sex\",\n      \"properties\": {\n        \"dtype\": \"number\",\n        \"std\": 88.88641760553095,\n        \"min\": 0.0,\n        \"max\": 252.0,\n        \"num_unique_values\": 5,\n        \"samples\": [\n          0.6984126984126984,\n          1.0,\n          0.4598603853577449\n        ],\n        \"semantic_type\": \"\",\n        \"description\": \"\"\n      }\n    },\n    {\n      \"column\": \"Chest pain type\",\n      \"properties\": {\n        \"dtype\": \"number\",\n        \"std\": 88.13839341809458,\n        \"min\": 0.9536464746878822,\n        \"max\": 252.0,\n        \"num_unique_values\": 6,\n        \"samples\": [\n          252.0,\n          3.1507936507936507,\n          4.0\n        ],\n        \"semantic_type\": \"\",\n        \"description\": \"\"\n      }\n    },\n    {\n      \"column\": \"BP\",\n      \"properties\": {\n        \"dtype\": \"number\",\n        \"std\": 66.65155906483099,\n        \"min\": 15.409589483470139,\n        \"max\": 252.0,\n        \"num_unique_values\": 8,\n        \"samples\": [\n          129.32539682539684,\n          130.0,\n          252.0\n        ],\n        \"semantic_type\": \"\",\n        \"description\": \"\"\n      }\n    },\n    {\n      \"column\": \"Cholesterol\",\n      \"properties\": {\n        \"dtype\": \"number\",\n        \"std\": 96.08220311797874,\n        \"min\": 44.058216920503355,\n        \"max\": 360.0,\n        \"num_unique_values\": 8,\n        \"samples\": [\n          245.46825396825398,\n          243.5,\n          252.0\n        ],\n        \"semantic_type\": \"\",\n        \"description\": \"\"\n      }\n    },\n    {\n      \"column\": \"FBS over 120\",\n      \"properties\": {\n        \"dtype\": \"number\",\n        \"std\": 89.02109130400505,\n        \"min\": 0.0,\n        \"max\": 252.0,\n        \"num_unique_values\": 5,\n        \"samples\": [\n          0.1388888888888889,\n          1.0,\n          0.3465187650581225\n        ],\n        \"semantic_type\": \"\",\n        \"description\": \"\"\n      }\n    },\n    {\n      \"column\": \"EKG results\",\n      \"properties\": {\n        \"dtype\": \"number\",\n        \"std\": 88.69470479157725,\n        \"min\": 0.0,\n        \"max\": 252.0,\n        \"num_unique_values\": 5,\n        \"samples\": [\n          1.0119047619047619,\n          2.0,\n          0.9999288534736389\n        ],\n        \"semantic_type\": \"\",\n        \"description\": \"\"\n      }\n    },\n    {\n      \"column\": \"Max HR\",\n      \"properties\": {\n        \"dtype\": \"number\",\n        \"std\": 69.30998359501571,\n        \"min\": 22.909668392121468,\n        \"max\": 252.0,\n        \"num_unique_values\": 8,\n        \"samples\": [\n          150.0873015873016,\n          154.0,\n          252.0\n        ],\n        \"semantic_type\": \"\",\n        \"description\": \"\"\n      }\n    },\n    {\n      \"column\": \"Exercise angina\",\n      \"properties\": {\n        \"dtype\": \"number\",\n        \"std\": 88.95582006359375,\n        \"min\": 0.0,\n        \"max\": 252.0,\n        \"num_unique_values\": 5,\n        \"samples\": [\n          0.31746031746031744,\n          1.0,\n          0.4664145455488061\n        ],\n        \"semantic_type\": \"\",\n        \"description\": \"\"\n      }\n    },\n    {\n      \"column\": \"ST depression\",\n      \"properties\": {\n        \"dtype\": \"number\",\n        \"std\": 88.6985262387459,\n        \"min\": 0.0,\n        \"max\": 252.0,\n        \"num_unique_values\": 7,\n        \"samples\": [\n          252.0,\n          0.9615079365079365,\n          1.6\n        ],\n        \"semantic_type\": \"\",\n        \"description\": \"\"\n      }\n    },\n    {\n      \"column\": \"Slope of ST\",\n      \"properties\": {\n        \"dtype\": \"number\",\n        \"std\": 88.56036411412201,\n        \"min\": 0.5995423959576892,\n        \"max\": 252.0,\n        \"num_unique_values\": 7,\n        \"samples\": [\n          252.0,\n          1.5555555555555556,\n          2.0\n        ],\n        \"semantic_type\": \"\",\n        \"description\": \"\"\n      }\n    },\n    {\n      \"column\": \"Number of vessels fluro\",\n      \"properties\": {\n        \"dtype\": \"number\",\n        \"std\": 88.81949536355029,\n        \"min\": 0.0,\n        \"max\": 252.0,\n        \"num_unique_values\": 6,\n        \"samples\": [\n          252.0,\n          0.6507936507936508,\n          3.0\n        ],\n        \"semantic_type\": \"\",\n        \"description\": \"\"\n      }\n    },\n    {\n      \"column\": \"Thallium\",\n      \"properties\": {\n        \"dtype\": \"number\",\n        \"std\": 87.62347848242928,\n        \"min\": 1.9258531590402443,\n        \"max\": 252.0,\n        \"num_unique_values\": 5,\n        \"samples\": [\n          4.626984126984127,\n          7.0,\n          1.9258531590402443\n        ],\n        \"semantic_type\": \"\",\n        \"description\": \"\"\n      }\n    }\n  ]\n}"
            }
          },
          "metadata": {},
          "execution_count": 17
        }
      ]
    },
    {
      "cell_type": "markdown",
      "source": [
        "# Split the Data"
      ],
      "metadata": {
        "id": "GFC0B6piYRdb"
      }
    },
    {
      "cell_type": "code",
      "source": [
        "# Import the train_test_split function\n",
        "from sklearn.model_selection import train_test_split\n",
        "\n",
        "# Separate features and target variable\n",
        "X = data.drop('Heart Disease', axis=1)\n",
        "y = data['Heart Disease']\n",
        "\n",
        "# Split into training and testing sets\n",
        "X_train, X_test, y_train, y_test = train_test_split(X, y, test_size=0.3, random_state=42, stratify=y)\n",
        "\n",
        "# Check the split\n",
        "print(f\"Training set size: {X_train.shape}, Test set size: {X_test.shape}\")\n"
      ],
      "metadata": {
        "colab": {
          "base_uri": "https://localhost:8080/"
        },
        "id": "mGP0wrZmaQjM",
        "outputId": "6fc52fdc-2b2f-4a47-c368-48e0a021ade2"
      },
      "execution_count": null,
      "outputs": [
        {
          "output_type": "stream",
          "name": "stdout",
          "text": [
            "Training set size: (176, 13), Test set size: (76, 13)\n"
          ]
        }
      ]
    },
    {
      "cell_type": "markdown",
      "source": [
        "# Standardize the Features"
      ],
      "metadata": {
        "id": "u99S_Ligbgf5"
      }
    },
    {
      "cell_type": "code",
      "source": [
        "from sklearn.preprocessing import StandardScaler\n",
        "\n",
        "# Initialize the scaler\n",
        "scaler = StandardScaler()\n",
        "\n",
        "# Fit the scaler on the training data and transform both training and testing sets\n",
        "X_train_scaled = scaler.fit_transform(X_train)\n",
        "X_test_scaled = scaler.transform(X_test)\n",
        "\n",
        "# Check the scaled data (optional)\n",
        "print(\"First 5 rows of scaled training data:\\n\", X_train_scaled[:5])\n"
      ],
      "metadata": {
        "colab": {
          "base_uri": "https://localhost:8080/"
        },
        "id": "xY3LhXKYbmMd",
        "outputId": "3eff52ed-89bc-4e84-874b-682abb00466a"
      },
      "execution_count": null,
      "outputs": [
        {
          "output_type": "stream",
          "name": "stdout",
          "text": [
            "First 5 rows of scaled training data:\n",
            " [[ 2.46130338 -1.60991824 -0.15212544  0.71017332 -1.08385017 -0.4163332\n",
            "  -0.05134983 -1.58880043 -0.67419986  0.12608737  0.76809537 -0.68764594\n",
            "  -0.86705521]\n",
            " [-1.55171805  0.62114956  0.91883763 -0.73632384 -0.57411279 -0.4163332\n",
            "  -1.05552419 -0.54002828 -0.67419986  0.22341798  0.76809537 -0.68764594\n",
            "   1.19513015]\n",
            " [-0.14173755  0.62114956 -1.22308851  0.31567409 -0.99117064 -0.4163332\n",
            "  -1.05552419  0.24655084 -0.67419986 -0.16590444 -0.92171445  0.37398288\n",
            "  -0.86705521]\n",
            " [ 0.94286284 -1.60991824  0.91883763 -0.34182461 -0.8058116  -0.4163332\n",
            "  -1.05552419  0.46504504 -0.67419986 -0.94454927 -0.92171445 -0.68764594\n",
            "  -0.86705521]\n",
            " [-0.79249778 -1.60991824 -1.22308851 -1.59107215 -0.921661   -0.4163332\n",
            "  -1.05552419  0.8583346  -0.67419986 -0.94454927 -0.92171445 -0.68764594\n",
            "  -0.86705521]]\n"
          ]
        }
      ]
    },
    {
      "cell_type": "markdown",
      "source": [
        "# Train the Logistic Regression Model"
      ],
      "metadata": {
        "id": "L_z9w-SQcnMa"
      }
    },
    {
      "cell_type": "code",
      "source": [
        "from sklearn.linear_model import LogisticRegression\n",
        "\n",
        "# Initialize the model\n",
        "model = LogisticRegression(random_state=42)\n",
        "\n",
        "# Train the model on the training set\n",
        "model.fit(X_train_scaled, y_train)\n",
        "\n",
        "print(\"Model training completed!\")\n"
      ],
      "metadata": {
        "colab": {
          "base_uri": "https://localhost:8080/"
        },
        "id": "_TDh30W8cpdN",
        "outputId": "d8f927a6-89ab-4265-f08b-a0be9ff12a80"
      },
      "execution_count": null,
      "outputs": [
        {
          "output_type": "stream",
          "name": "stdout",
          "text": [
            "Model training completed!\n"
          ]
        }
      ]
    },
    {
      "cell_type": "markdown",
      "source": [
        "# Make Predictions"
      ],
      "metadata": {
        "id": "_Wgkm0cQfSKO"
      }
    },
    {
      "cell_type": "code",
      "source": [
        "# Make predictions on the test set\n",
        "y_pred = model.predict(X_test_scaled)\n",
        "\n",
        "# Predict probabilities (optional)\n",
        "y_prob = model.predict_proba(X_test_scaled)[:, 1]  # Probability of the positive class\n"
      ],
      "metadata": {
        "id": "FBnIQ7ETfUSZ"
      },
      "execution_count": null,
      "outputs": []
    },
    {
      "cell_type": "markdown",
      "source": [
        "# Evaluate the Model"
      ],
      "metadata": {
        "id": "2IPw13LHdxo3"
      }
    },
    {
      "cell_type": "markdown",
      "source": [
        "**Confusion Matrix**"
      ],
      "metadata": {
        "id": "lKcEDtUwgCt9"
      }
    },
    {
      "cell_type": "code",
      "source": [
        "from sklearn.metrics import confusion_matrix\n",
        "import seaborn as sns\n",
        "import matplotlib.pyplot as plt\n",
        "\n",
        "# Generate the confusion matrix\n",
        "cm = confusion_matrix(y_test, y_pred)\n",
        "\n",
        "# Visualize the confusion matrix\n",
        "sns.heatmap(cm, annot=True, fmt='d', cmap='Blues', xticklabels=['No Disease', 'Disease'], yticklabels=['No Disease', 'Disease'])\n",
        "plt.xlabel('Predicted')\n",
        "plt.ylabel('Actual')\n",
        "plt.title('Confusion Matrix')\n",
        "plt.show()\n"
      ],
      "metadata": {
        "colab": {
          "base_uri": "https://localhost:8080/",
          "height": 472
        },
        "id": "SFffGFCadz6K",
        "outputId": "2a344b19-75b4-43f9-d49e-fa60b64c6e79"
      },
      "execution_count": null,
      "outputs": [
        {
          "output_type": "display_data",
          "data": {
            "text/plain": [
              "<Figure size 640x480 with 2 Axes>"
            ],
            "image/png": "[encoded data removed]"
          },
          "metadata": {}
        }
      ]
    },
    {
      "cell_type": "markdown",
      "source": [
        "Strength:\n",
        "- The model is good at identifying patients without disease (39 out of 43).\n",
        "\n",
        "Weakness:\n",
        "- It missed 8 disease cases (false negatives). This can be problematic in a healthcare scenario where failing to diagnose disease could lead to severe consequences.\n",
        "\n",
        "Improvements:\n",
        "- Reducing false negatives should be prioritized. Recall for the Presence (disease) class can be improved with techniques like hyperparameter tuning, rebalancing classes, or trying more advanced models (e.g., Random Forest or Gradient Boosting)."
      ],
      "metadata": {
        "id": "EJZX9lryg18d"
      }
    },
    {
      "cell_type": "markdown",
      "source": [
        "**Classification Report**"
      ],
      "metadata": {
        "id": "6R679ykxgH2_"
      }
    },
    {
      "cell_type": "code",
      "source": [
        "from sklearn.metrics import classification_report\n",
        "\n",
        "# Generate the classification report\n",
        "report = classification_report(y_test, y_pred)\n",
        "print(\"Classification Report:\\n\", report)\n"
      ],
      "metadata": {
        "colab": {
          "base_uri": "https://localhost:8080/"
        },
        "id": "kht9xmpzgOy2",
        "outputId": "ff3e428c-e288-46e1-c797-8adf0d889ab9"
      },
      "execution_count": null,
      "outputs": [
        {
          "output_type": "stream",
          "name": "stdout",
          "text": [
            "Classification Report:\n",
            "               precision    recall  f1-score   support\n",
            "\n",
            "     Absence       0.83      0.91      0.87        43\n",
            "    Presence       0.86      0.76      0.81        33\n",
            "\n",
            "    accuracy                           0.84        76\n",
            "   macro avg       0.85      0.83      0.84        76\n",
            "weighted avg       0.84      0.84      0.84        76\n",
            "\n"
          ]
        }
      ]
    },
    {
      "cell_type": "markdown",
      "source": [
        "Accuracy:\n",
        "- Indicates the overall performance of the model. It’s a good result, but accuracy alone doesn’t reflect class imbalances or the cost of false negatives.\n",
        "\n",
        "Precision:\n",
        "- Precision is high for both classes, meaning the model minimizes false positives effectively.\n",
        "\n",
        "Recall:\n",
        "- The recall for the Disease class (76%) is relatively lower, meaning the model missed 24% of actual disease cases. Recall is critical in healthcare scenarios.\n",
        "\n",
        "F1-Score:\n",
        "- Balances precision and recall. The scores are decent, but the Disease class could use improvement (F1: 81%).\n",
        "\n",
        "The model performs better for the No Disease class compared to the Disease class. This could be due to class imbalance feature importance not being optimized for the disease class."
      ],
      "metadata": {
        "id": "3AW3cdrnh27c"
      }
    },
    {
      "cell_type": "markdown",
      "source": [
        "**Specificity** - Specificity measures how well the model identifies the negative class (No Disease), i.e., how well it avoids false positives.\n"
      ],
      "metadata": {
        "id": "M6rEW-hJkIf-"
      }
    },
    {
      "cell_type": "code",
      "source": [
        "# Compute Specificity\n",
        "tn, fp, fn, tp = confusion_matrix(y_test, y_pred).ravel()\n",
        "specificity = tn / (tn + fp)\n",
        "print(f\"Specificity: {specificity:.2f}\")\n"
      ],
      "metadata": {
        "colab": {
          "base_uri": "https://localhost:8080/"
        },
        "id": "MJqAcSvlgO1A",
        "outputId": "f02eb01b-809e-4686-ee76-015d6cedd58d"
      },
      "execution_count": null,
      "outputs": [
        {
          "output_type": "stream",
          "name": "stdout",
          "text": [
            "Specificity: 0.91\n"
          ]
        }
      ]
    },
    {
      "cell_type": "markdown",
      "source": [
        "*Implication: This is excellent because it shows the model is highly effective at avoiding false positives (incorrectly predicting disease when there isn’t one).*"
      ],
      "metadata": {
        "id": "38bNs2_wm-Bn"
      }
    },
    {
      "cell_type": "markdown",
      "source": [
        "**AUC (Area Under the Curve)** - ROC AUC evaluates the trade-off between sensitivity (recall) and specificity at various thresholds. A value closer to 1 indicates better model performance."
      ],
      "metadata": {
        "id": "hQzWOKD6kjng"
      }
    },
    {
      "cell_type": "code",
      "source": [
        "from sklearn.metrics import roc_auc_score\n",
        "\n",
        "# Compute AUC\n",
        "y_prob = model.predict_proba(X_test_scaled)[:, 1]  # Get probabilities for the positive class\n",
        "auc = roc_auc_score(y_test, y_prob)\n",
        "print(f\"AUC: {auc:.2f}\")\n"
      ],
      "metadata": {
        "colab": {
          "base_uri": "https://localhost:8080/"
        },
        "id": "kCJOg98Mkxrv",
        "outputId": "95dea2ce-7966-4148-a752-178333db4a47"
      },
      "execution_count": null,
      "outputs": [
        {
          "output_type": "stream",
          "name": "stdout",
          "text": [
            "AUC: 0.92\n"
          ]
        }
      ]
    },
    {
      "cell_type": "markdown",
      "source": [
        "*Implication: The model is performing significantly better than random guessing (AUC = 0.5). A value closer to 1 is ideal.*\n"
      ],
      "metadata": {
        "id": "u6ozbaKWniLT"
      }
    },
    {
      "cell_type": "markdown",
      "source": [
        "**ROC Curve** - The ROC Curve plots the true positive rate (sensitivity) against the false positive rate (1 - specificity) for different thresholds."
      ],
      "metadata": {
        "id": "w0kw3VjXk15U"
      }
    },
    {
      "cell_type": "code",
      "source": [
        "# Encode the target labels (category to numerical, presence/absence - 1/0)\n",
        "from sklearn.preprocessing import LabelEncoder\n",
        "\n",
        "label_encoder = LabelEncoder()\n",
        "y_test_encoded = label_encoder.fit_transform(y_test)  # Converts 'Absence'/'Presence' to 0/1\n",
        "\n",
        "# Compute ROC curve\n",
        "fpr, tpr, thresholds = roc_curve(y_test_encoded, y_prob)\n",
        "\n",
        "# Plot ROC curve\n",
        "plt.figure(figsize=(8, 6))\n",
        "plt.plot(fpr, tpr, label=f\"ROC Curve (AUC = {auc:.2f})\")\n",
        "plt.plot([0, 1], [0, 1], 'k--', label=\"Random Guess\")\n",
        "plt.xlabel('False Positive Rate')\n",
        "plt.ylabel('True Positive Rate')\n",
        "plt.title('Receiver Operating Characteristic (ROC) Curve')\n",
        "plt.legend(loc=\"lower right\")\n",
        "plt.grid()\n",
        "plt.show()\n"
      ],
      "metadata": {
        "colab": {
          "base_uri": "https://localhost:8080/",
          "height": 564
        },
        "id": "v7VdYaGDk8z4",
        "outputId": "910b9d4d-5eb3-4847-fda7-4d69d6949cdf"
      },
      "execution_count": null,
      "outputs": [
        {
          "output_type": "display_data",
          "data": {
            "text/plain": [
              "<Figure size 800x600 with 1 Axes>"
            ],
            "image/png": "[encoded data removed]"
          },
          "metadata": {}
        }
      ]
    },
    {
      "cell_type": "markdown",
      "source": [
        "# HyperParameter Tuning\n"
      ],
      "metadata": {
        "id": "WOST4TNun5kJ"
      }
    },
    {
      "cell_type": "code",
      "source": [
        "from sklearn.model_selection import GridSearchCV\n",
        "from sklearn.linear_model import LogisticRegression\n",
        "from sklearn.preprocessing import LabelEncoder\n",
        "\n",
        "# Define the parameter grid\n",
        "param_grid = {\n",
        "    'C': [0.01, 0.1, 1, 10, 100],  # Regularization strength\n",
        "    'penalty': ['l1', 'l2'],       # Regularization type\n",
        "    'solver': ['liblinear', 'saga']  # Solvers compatible with l1 and l2\n",
        "}\n",
        "\n",
        "# Initialize the model\n",
        "log_reg = LogisticRegression(random_state=42, max_iter=1000)\n"
      ],
      "metadata": {
        "id": "HdVIdCOJpDug"
      },
      "execution_count": null,
      "outputs": []
    },
    {
      "cell_type": "code",
      "source": [
        "# Set Up GridSearchCV\n",
        "grid_search = GridSearchCV(estimator=log_reg, param_grid=param_grid, cv=5, scoring='f1', verbose=1)\n",
        "\n",
        "# Encode the labels in the training and test sets\n",
        "label_encoder = LabelEncoder()\n",
        "y_train_encoded = label_encoder.fit_transform(y_train)  # Convert 'Absence'/'Presence' to 0/1\n",
        "y_test_encoded = label_encoder.transform(y_test)        # Ensure test labels match the same encoding\n",
        "\n",
        "# Fit the model using encoded labels\n",
        "grid_search.fit(X_train_scaled, y_train_encoded)\n",
        "\n",
        "# Get the best parameters\n",
        "print(\"Best Parameters:\", grid_search.best_params_)\n",
        "\n",
        "# Get the best model\n",
        "best_model = grid_search.best_estimator_\n"
      ],
      "metadata": {
        "colab": {
          "base_uri": "https://localhost:8080/"
        },
        "id": "VxDYZlodpGoG",
        "outputId": "31257d58-bfd5-4c29-c29f-a936394f438c"
      },
      "execution_count": null,
      "outputs": [
        {
          "output_type": "stream",
          "name": "stdout",
          "text": [
            "Fitting 5 folds for each of 20 candidates, totalling 100 fits\n",
            "Best Parameters: {'C': 0.01, 'penalty': 'l2', 'solver': 'liblinear'}\n"
          ]
        }
      ]
    },
    {
      "cell_type": "code",
      "source": [
        "# Make predictions\n",
        "y_pred_tuned = best_model.predict(X_test_scaled)\n",
        "y_prob_tuned = best_model.predict_proba(X_test_scaled)[:, 1]  # Probabilities for the positive class\n"
      ],
      "metadata": {
        "id": "5ELeeo-VpNZp"
      },
      "execution_count": null,
      "outputs": []
    },
    {
      "cell_type": "code",
      "source": [
        "# Compute Specificity\n",
        "tn, fp, fn, tp = cm_tuned.ravel()\n",
        "specificity_tuned = tn / (tn + fp)\n",
        "print(f\"Specificity (Tuned Model): {specificity_tuned:.2f}\")\n"
      ],
      "metadata": {
        "colab": {
          "base_uri": "https://localhost:8080/"
        },
        "id": "3DwNNu8V0kbf",
        "outputId": "9a32975e-4645-463d-aaa3-d03bed41720c"
      },
      "execution_count": null,
      "outputs": [
        {
          "output_type": "stream",
          "name": "stdout",
          "text": [
            "Specificity (Tuned Model): 0.91\n"
          ]
        }
      ]
    },
    {
      "cell_type": "code",
      "source": [
        "from sklearn.preprocessing import LabelEncoder\n",
        "\n",
        "# Encode y_test\n",
        "label_encoder = LabelEncoder()\n",
        "y_test_encoded = label_encoder.fit_transform(y_test)  # Converts 'Absence'/'Presence' to 0/1\n",
        "\n",
        "# Compute AUC\n",
        "auc_tuned = roc_auc_score(y_test_encoded, y_prob_tuned)\n",
        "print(f\"AUC (Tuned Model): {auc_tuned:.2f}\")\n",
        "\n",
        "# Compute ROC curve\n",
        "fpr_tuned, tpr_tuned, thresholds_tuned = roc_curve(y_test_encoded, y_prob_tuned)\n",
        "\n",
        "# Plot ROC curve\n",
        "plt.figure(figsize=(8, 6))\n",
        "plt.plot(fpr_tuned, tpr_tuned, label=f\"ROC Curve (AUC = {auc_tuned:.2f})\")\n",
        "plt.plot([0, 1], [0, 1], 'k--', label=\"Random Guess\")\n",
        "plt.xlabel('False Positive Rate')\n",
        "plt.ylabel('True Positive Rate')\n",
        "plt.title('(ROC) Curve (Tuned Model)')\n",
        "plt.legend(loc=\"lower right\")\n",
        "plt.grid()\n",
        "plt.show()\n"
      ],
      "metadata": {
        "colab": {
          "base_uri": "https://localhost:8080/",
          "height": 581
        },
        "id": "3MTMlqF-0hWD",
        "outputId": "70993c00-f07d-45ea-a316-37dd21288956"
      },
      "execution_count": null,
      "outputs": [
        {
          "output_type": "stream",
          "name": "stdout",
          "text": [
            "AUC (Tuned Model): 0.92\n"
          ]
        },
        {
          "output_type": "display_data",
          "data": {
            "text/plain": [
              "<Figure size 800x600 with 1 Axes>"
            ],
            "image/png": "[encoded data removed]"
          },
          "metadata": {}
        }
      ]
    },
    {
      "cell_type": "markdown",
      "source": [
        "# Confusion Matrix and Classification Report:"
      ],
      "metadata": {
        "id": "5J9Qlr3ZpTqS"
      }
    },
    {
      "cell_type": "code",
      "source": [
        "# Ensure y_test is encoded\n",
        "y_test_encoded = label_encoder.transform(y_test)  # Convert 'Absence'/'Presence' to 0/1\n",
        "\n",
        "\n",
        "# Confusion Matrix\n",
        "cm_tuned = confusion_matrix(y_test_encoded, y_pred_tuned)\n",
        "sns.heatmap(cm_tuned, annot=True, fmt='d', cmap='Blues', xticklabels=['No Disease', 'Disease'], yticklabels=['No Disease', 'Disease'])\n",
        "plt.xlabel('Predicted')\n",
        "plt.ylabel('Actual')\n",
        "plt.title('Confusion Matrix (Tuned Model)')\n",
        "plt.show()\n",
        "\n",
        "# Classification Report\n",
        "report_tuned = classification_report(y_test_encoded, y_pred_tuned)\n",
        "print(\"Classification Report (Tuned Model):\\n\", report_tuned)\n",
        "\n"
      ],
      "metadata": {
        "colab": {
          "base_uri": "https://localhost:8080/",
          "height": 646
        },
        "id": "833bLFGdpWtF",
        "outputId": "2185f0cc-b876-4ce9-a882-90c3d10408eb"
      },
      "execution_count": null,
      "outputs": [
        {
          "output_type": "display_data",
          "data": {
            "text/plain": [
              "<Figure size 640x480 with 2 Axes>"
            ],
            "image/png": "[encoded data removed]"
          },
          "metadata": {}
        },
        {
          "output_type": "stream",
          "name": "stdout",
          "text": [
            "Classification Report (Tuned Model):\n",
            "               precision    recall  f1-score   support\n",
            "\n",
            "           0       0.85      0.91      0.88        43\n",
            "           1       0.87      0.79      0.83        33\n",
            "\n",
            "    accuracy                           0.86        76\n",
            "   macro avg       0.86      0.85      0.85        76\n",
            "weighted avg       0.86      0.86      0.85        76\n",
            "\n"
          ]
        }
      ]
    },
    {
      "cell_type": "markdown",
      "source": [
        "Summary:\n",
        "The hypertuned model using grid search did just slightly better. Only FN was improved from 8 FN to 7 FN\n",
        "- perhaps the dataset is simple and well-suited for logistic regression\n",
        "- perhaps features might not have enough complexity\n",
        "- dataset size, if small it might appear as a marginal difference"
      ],
      "metadata": {
        "id": "4Y-p1n0-tsze"
      }
    },
    {
      "cell_type": "markdown",
      "source": [
        "# Adjusting threshold to improve recall"
      ],
      "metadata": {
        "id": "DdSA_9aGy8FA"
      }
    },
    {
      "cell_type": "code",
      "source": [
        "# Adjust threshold to improve recall\n",
        "threshold = 0.4\n",
        "y_pred_adjusted = (y_prob_tuned >= threshold).astype(int)\n"
      ],
      "metadata": {
        "id": "1altnfWrtlIF"
      },
      "execution_count": null,
      "outputs": []
    },
    {
      "cell_type": "code",
      "source": [
        "# Recompute the Confusion Matrix\n",
        "from sklearn.metrics import confusion_matrix\n",
        "import seaborn as sns\n",
        "import matplotlib.pyplot as plt\n",
        "\n",
        "# Compute the confusion matrix for the adjusted threshold\n",
        "cm_adjusted = confusion_matrix(y_test_encoded, y_pred_adjusted)\n",
        "\n",
        "# Visualize the confusion matrix\n",
        "sns.heatmap(cm_adjusted, annot=True, fmt='d', cmap='Blues', xticklabels=['No Disease', 'Disease'], yticklabels=['No Disease', 'Disease'])\n",
        "plt.xlabel('Predicted')\n",
        "plt.ylabel('Actual')\n",
        "plt.title('Confusion Matrix (Adjusted Threshold)')\n",
        "plt.show()\n"
      ],
      "metadata": {
        "colab": {
          "base_uri": "https://localhost:8080/",
          "height": 472
        },
        "id": "xBQP5_u0vd74",
        "outputId": "1799a431-6f64-4744-cd62-ac1d7bfe0b61"
      },
      "execution_count": null,
      "outputs": [
        {
          "output_type": "display_data",
          "data": {
            "text/plain": [
              "<Figure size 640x480 with 2 Axes>"
            ],
            "image/png": "[encoded data removed]"
          },
          "metadata": {}
        }
      ]
    },
    {
      "cell_type": "code",
      "source": [
        "from sklearn.metrics import classification_report\n",
        "\n",
        "# Generate the classification report\n",
        "report_adjusted = classification_report(y_test_encoded, y_pred_adjusted)\n",
        "print(\"Classification Report (Adjusted Threshold):\\n\", report_adjusted)\n"
      ],
      "metadata": {
        "colab": {
          "base_uri": "https://localhost:8080/"
        },
        "id": "2jtsE9UJwyDb",
        "outputId": "f0c70ebb-0bad-4ce2-d6bc-92fa574da803"
      },
      "execution_count": null,
      "outputs": [
        {
          "output_type": "stream",
          "name": "stdout",
          "text": [
            "Classification Report (Adjusted Threshold):\n",
            "               precision    recall  f1-score   support\n",
            "\n",
            "           0       0.88      0.70      0.78        43\n",
            "           1       0.69      0.88      0.77        33\n",
            "\n",
            "    accuracy                           0.78        76\n",
            "   macro avg       0.79      0.79      0.78        76\n",
            "weighted avg       0.80      0.78      0.78        76\n",
            "\n"
          ]
        }
      ]
    },
    {
      "cell_type": "code",
      "source": [
        "# Compute Specificity\n",
        "tn, fp, fn, tp = cm_adjusted.ravel()\n",
        "specificity_adjusted = tn / (tn + fp)\n",
        "print(f\"Specificity (Adjusted Threshold): {specificity_adjusted:.2f}\")\n"
      ],
      "metadata": {
        "colab": {
          "base_uri": "https://localhost:8080/"
        },
        "id": "zVIjyw-TyMCJ",
        "outputId": "6b225c5f-5b0a-40e6-e7e1-2658726c2263"
      },
      "execution_count": null,
      "outputs": [
        {
          "output_type": "stream",
          "name": "stdout",
          "text": [
            "Specificity (Adjusted Threshold): 0.70\n"
          ]
        }
      ]
    },
    {
      "cell_type": "markdown",
      "source": [
        "# Observation:\n",
        "- Adjusting the threshold to improve recall for the Disease class (class 1) has introduced trade-offs that ultimately worsened the model's overall performance compared to the hyperparameter-tuned model. lowering the threshold introduced too many false positives, which outweighed the benefit of improving recall.\n",
        "- ROC Curve and AUC: Represent the model’s ability to rank predictions, which didn’t change significantly with hyperparameter tuning.\n",
        "- Classification Metrics (Precision, Recall, etc.): Depend on the decision threshold and predicted labels, which were affected by the tuning process.\n",
        "- Tuned Model: Slightly improved recall and F1-score for Disease, showing better handling of false negatives.\n",
        "- AUC/ROC Consistency: Indicates that the model's ranking ability didn’t change, suggesting the tuning focused on improving classification boundaries rather than the underlying probability predictions."
      ],
      "metadata": {
        "id": "GUduqhLoyo2a"
      }
    },
    {
      "cell_type": "markdown",
      "source": [
        "# CONCLUSION\n",
        "**Final Model Selection:**\n",
        "The hyperparameter-tuned Logistic Regression model was selected as the final model due to its:\n",
        "\n",
        "Improved recall (from 76% to 79%) without sacrificing precision (87%). High overall accuracy (86%) and an AUC of 0.92, reflecting excellent ranking ability. Practical balance between minimizing false negatives and false positives, which is critical in a healthcare setting.\n",
        "\n",
        "The Logistic Regression model, fine-tuned with hyperparameter optimization, demonstrated robust performance in predicting heart disease. It provides a practical and interpretable solution for clinical use, balancing accuracy, precision, and recall, and maintaining a high AUC of 0.92. This ensures reliable predictions while minimizing critical errors like missed disease cases.\n",
        "\n"
      ],
      "metadata": {
        "id": "s9UK438G6Z7X"
      }
    }
  ]
}